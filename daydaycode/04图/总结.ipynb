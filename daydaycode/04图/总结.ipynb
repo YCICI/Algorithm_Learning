{
 "cells": [
  {
   "attachments": {},
   "cell_type": "markdown",
   "metadata": {},
   "source": [
    "## 图\n",
    "\n",
    "**图的表示方式**\n",
    "* 邻接表\n",
    "* 邻接矩阵\n",
    "\n",
    "\n",
    "**图的表示**\n",
    "\n",
    "以熟悉的方式表示图，并在熟悉的图的表示方式上解决图的相关问题"
   ]
  },
  {
   "cell_type": "code",
   "execution_count": null,
   "metadata": {},
   "outputs": [],
   "source": [
    "# \n",
    "import \n"
   ]
  },
  {
   "cell_type": "code",
   "execution_count": null,
   "metadata": {},
   "outputs": [],
   "source": []
  }
 ],
 "metadata": {
  "kernelspec": {
   "display_name": "Python 3",
   "language": "python",
   "name": "python3"
  },
  "language_info": {
   "name": "python",
   "version": "3.8.2"
  },
  "orig_nbformat": 4
 },
 "nbformat": 4,
 "nbformat_minor": 2
}
