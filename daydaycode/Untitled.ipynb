{
 "cells": [
  {
   "cell_type": "code",
   "execution_count": 50,
   "id": "bb7bee18",
   "metadata": {},
   "outputs": [],
   "source": [
    "# heapsort\n",
    "# \n",
    "\n",
    "def heapinsert(arr, index):\n",
    "\n",
    "    while arr[index] > arr[int((index - 1) / 2)]:\n",
    "        arr[index], arr[int((index - 1) / 2)] = arr[int((index - 1) / 2)], arr[index]\n",
    "        index = int((index - 1) / 2)\n",
    "    \n",
    "    return\n",
    "\n",
    "\n",
    "def heapify(arr, index, heapsize):\n",
    "    \n",
    "    leftindex = 2 * index + 1\n",
    "    \n",
    "\n",
    "    while leftindex <= heapsize:\n",
    "        \n",
    "        rightindex = leftindex + 1\n",
    "        \n",
    "        # 比较左右孩子\n",
    "        if rightindex <= heapsize and arr[rightindex] > arr[leftindex]:\n",
    "            largest = rightindex \n",
    "        else:\n",
    "            largest = leftindex \n",
    "        \n",
    "        # 比较父节点和左右大孩子\n",
    "\n",
    "        if arr[largest] > arr[index]:\n",
    "            largest = largest\n",
    "            arr[index], arr[largest] = arr[largest], arr[index]\n",
    "\n",
    "        else :\n",
    "            break\n",
    "        \n",
    "        # 更新继续\n",
    "        index = largest\n",
    "        leftindex = 2 * index + 1\n",
    "    \n",
    "    return "
   ]
  },
  {
   "cell_type": "code",
   "execution_count": 52,
   "id": "a0024160",
   "metadata": {},
   "outputs": [
    {
     "data": {
      "text/plain": [
       "[0, 3, 4, 5, 7, 9]"
      ]
     },
     "execution_count": 52,
     "metadata": {},
     "output_type": "execute_result"
    }
   ],
   "source": [
    "nums = [3, 5, 9, 4, 7, 0]\n",
    "for i in range(len(nums)):\n",
    "    heapinsert(nums, i)\n",
    "#print('heap', nums)   \n",
    "\n",
    "heapsize = len(nums) - 1\n",
    "while heapsize:\n",
    "    nums[0], nums[heapsize] = nums[heapsize], nums[0]\n",
    "    heapsize -=1\n",
    "    #print('pop', nums)\n",
    "    heapify(nums, 0, heapsize)\n",
    "    #print(heapsize, nums)\n",
    "    \n",
    "nums "
   ]
  },
  {
   "cell_type": "code",
   "execution_count": 56,
   "id": "ad5e6f57",
   "metadata": {},
   "outputs": [
    {
     "data": {
      "text/plain": [
       "0.0"
      ]
     },
     "execution_count": 56,
     "metadata": {},
     "output_type": "execute_result"
    }
   ],
   "source": [
    "a = 1\n",
    "(a - 1) / 2"
   ]
  },
  {
   "cell_type": "code",
   "execution_count": null,
   "id": "86805f49",
   "metadata": {},
   "outputs": [],
   "source": []
  }
 ],
 "metadata": {
  "kernelspec": {
   "display_name": "Python 3 (ipykernel)",
   "language": "python",
   "name": "python3"
  },
  "language_info": {
   "codemirror_mode": {
    "name": "ipython",
    "version": 3
   },
   "file_extension": ".py",
   "mimetype": "text/x-python",
   "name": "python",
   "nbconvert_exporter": "python",
   "pygments_lexer": "ipython3",
   "version": "3.9.13"
  }
 },
 "nbformat": 4,
 "nbformat_minor": 5
}
