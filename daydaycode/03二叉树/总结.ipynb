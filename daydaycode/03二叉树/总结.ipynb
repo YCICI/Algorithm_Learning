{
 "cells": [
  {
   "attachments": {},
   "cell_type": "markdown",
   "metadata": {},
   "source": [
    "## 基础知识\n",
    "\n",
    "01二叉树结构\n",
    "\n",
    "02二叉树常见概念\n",
    "  * 搜索二叉树\n",
    "  * 完全二叉树\n",
    "\n",
    "03前中后序遍历(中-深度优先遍历)\n",
    "\n",
    "04宽度优先遍历\n",
    "\n",
    "\n"
   ]
  },
  {
   "cell_type": "markdown",
   "metadata": {},
   "source": []
  }
 ],
 "metadata": {
  "language_info": {
   "name": "python"
  },
  "orig_nbformat": 4
 },
 "nbformat": 4,
 "nbformat_minor": 2
}
