{
 "cells": [
  {
   "attachments": {},
   "cell_type": "markdown",
   "metadata": {},
   "source": [
    "###  子字符串/子序列等题型\n",
    "\n",
    "常见类型有 \n",
    "* 回文子串，最长回文子序列\n",
    "* 最长子串，最长连续序列\n",
    "* 最长公共子串\n",
    "\n"
   ]
  }
 ],
 "metadata": {
  "language_info": {
   "name": "python"
  },
  "orig_nbformat": 4
 },
 "nbformat": 4,
 "nbformat_minor": 2
}
