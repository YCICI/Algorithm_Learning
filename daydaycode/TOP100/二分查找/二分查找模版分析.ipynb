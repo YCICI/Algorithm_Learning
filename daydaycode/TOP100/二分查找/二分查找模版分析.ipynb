{
 "cells": [
  {
   "cell_type": "code",
   "execution_count": null,
   "metadata": {},
   "outputs": [],
   "source": [
    "# 二分查找模版库\n",
    "import bisect"
   ]
  },
  {
   "cell_type": "code",
   "execution_count": 25,
   "metadata": {},
   "outputs": [],
   "source": [
    "## 使用二分查找的前提：有序数组 且 无重复数字\n",
    "\n",
    "## 二分查找根据边界的区分有两个版本 两个版本是一样的\n",
    "## 区分两种版本的区别是 判断搜索区间\n",
    "## 版本一是在[left, right]的空间中搜索 所以left == right 是有意义的 则left=right 不能退出，同时更新区间时left = mid - 1 right = mid + 1\n",
    "## 版本二是在[left, right)的空间搜索 left == right是没有意义的 left=right 可以退出，同时更新区间时left = mid - 1 right = mid \n",
    "## 但是版本二有问题是 mid的更新可能会导致 循环 \n",
    "## 版本一 更好\n",
    "def bisectv1(nums, target):\n",
    "    n = len(nums)\n",
    "    left, right = 0, n - 1\n",
    "    while left <= right:\n",
    "        mid = left + (right - left) / 2\n",
    "        # mid = left + ((right - left) >> 1)\n",
    "        print(left, right, mid)\n",
    "        # mid = (left + right) //2\n",
    "        if nums[mid] == target:\n",
    "            return mid\n",
    "        if nums[mid] < target:\n",
    "            left = mid + 1 \n",
    "        else:\n",
    "            right = mid - 1   \n",
    "    return -1\n",
    "\n",
    "\n",
    "## 版本二\n",
    "def bisectv2(nums, target):\n",
    "    n = len(nums)\n",
    "    left, right = 0, n - 1\n",
    "    while left < right:\n",
    "        ## 这里需要加1 不然会陷入循环 nums = [1,2] taegrt = 2的情况\n",
    "        mid = left + (right - left + 1) / 2\n",
    "        # mid = left + ((right - left) >> 1)\n",
    "        # mid = (left + right) //2\n",
    "        print(left, right, mid)\n",
    "        if nums[mid] == target:\n",
    "            return mid\n",
    "        \n",
    "        if nums[mid] < target:\n",
    "            left = mid + 1\n",
    "        else:\n",
    "            right = mid \n",
    "    return -1"
   ]
  },
  {
   "cell_type": "code",
   "execution_count": 26,
   "metadata": {},
   "outputs": [
    {
     "name": "stdout",
     "output_type": "stream",
     "text": [
      "0 1 0\n",
      "1 1 1\n",
      "res1 =  1\n",
      "0 1 1\n",
      "res2 =  1\n"
     ]
    }
   ],
   "source": [
    "## 问题 二分查找的边界有什么区别？\n",
    "\n",
    "\n",
    "nums = [1,2]\n",
    "target = 2\n",
    "\n",
    "res1 = bisectv1(nums, target)\n",
    "print(\"res1 = \", res1)\n",
    "\n",
    "\n",
    "res2 = bisectv2(nums, target)\n",
    "print(\"res2 = \", res2)"
   ]
  },
  {
   "cell_type": "code",
   "execution_count": 9,
   "metadata": {},
   "outputs": [
    {
     "data": {
      "text/plain": [
       "True"
      ]
     },
     "execution_count": 9,
     "metadata": {},
     "output_type": "execute_result"
    }
   ],
   "source": [
    "# 取中点的 方式的区别\n",
    "# 以下三种 无区别 最优的是位运算 最差的是 (left + right) // 2 有可能会溢出 \n",
    "\n",
    "def checkmid(left, right):\n",
    "    mid1 = left + (right - left) // 2\n",
    "    mid2 = left + ((right - left) >> 1)\n",
    "    mid3 = (left + right) // 2\n",
    "    \n",
    "    return (mid1 == mid2) and (mid2 == mid3)\n",
    "\n",
    "lefts  = [i for i in range(10)]\n",
    "rights = [i + round(4) for i  in range(10)]\n",
    "\n",
    "# for l in lefts:\n",
    "#     for r in rights:\n",
    "#         res = checkmid(left=l, right=r)\n",
    "#         print(l, r, res)\n",
    "checkmid(1, 1)  "
   ]
  },
  {
   "cell_type": "markdown",
   "metadata": {},
   "source": [
    "结论：版本一比较好用\n",
    "\n",
    "``` python\n",
    "\n",
    "def bisectv1(nums, target):\n",
    "    n = len(nums)\n",
    "    left, right = 0, n - 1\n",
    "    while left <= right:\n",
    "        mid = left + (right - left) // 2\n",
    "        # print(left, right, mid)\n",
    "        if nums[mid] == target:\n",
    "            return mid\n",
    "        if nums[mid] < target:\n",
    "            left = mid + 1 \n",
    "        else:\n",
    "            right = mid - 1   \n",
    "    return -1\n",
    "\n",
    "nums = [1,2]\n",
    "target = 2\n",
    "\n",
    "res1 = bisectv1(nums, target)\n",
    "print(\"res1 = \", res1)\n",
    "```"
   ]
  },
  {
   "cell_type": "code",
   "execution_count": null,
   "metadata": {},
   "outputs": [],
   "source": [
    "# 题目1 基础二分法 给定一个已排序的数组 arr及目标值 target，返回 target在数组中的位置，不存在则返回 一1\n",
    "# 题目2 寻找左边界 给定一个包含重复元素的排序数组arr，请查找target在数组中的左边界 arr = [1, 2, 3, 3, 3, 4, 6], target = 3，结果不存在则返回-1\n",
    "# 题目2 寻找右边界 给定一个包含重复元素的排序数组arr，请查找target在数组中的右边界 arr = [1, 2, 3, 3, 3, 4, 6], target = 3，结果不存在则返回-1\n"
   ]
  }
 ],
 "metadata": {
  "kernelspec": {
   "display_name": "Python 3",
   "language": "python",
   "name": "python3"
  },
  "language_info": {
   "codemirror_mode": {
    "name": "ipython",
    "version": 3
   },
   "file_extension": ".py",
   "mimetype": "text/x-python",
   "name": "python",
   "nbconvert_exporter": "python",
   "pygments_lexer": "ipython3",
   "version": "3.8.2"
  },
  "orig_nbformat": 4
 },
 "nbformat": 4,
 "nbformat_minor": 2
}
