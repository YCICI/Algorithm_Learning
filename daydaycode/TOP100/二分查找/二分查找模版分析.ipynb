{
 "cells": [
  {
   "cell_type": "code",
   "execution_count": null,
   "metadata": {},
   "outputs": [],
   "source": [
    "## 基础版本\n",
    "def searchRange(nums, target):\n",
    "\n",
    "    n = len(nums)\n",
    "    left, right = 0, n - 1\n",
    "    while left <= right:\n",
    "        mid = left + ((right - left)//2)\n",
    "        if nums[mid] == target:\n",
    "            return mid\n",
    "        elif nums[mid] < target:\n",
    "            left = mid + 1\n",
    "        else:\n",
    "            right = mid - 1\n",
    "    \n",
    "    return -1"
   ]
  },
  {
   "cell_type": "code",
   "execution_count": null,
   "metadata": {},
   "outputs": [],
   "source": [
    "## 有序数组中找>=num的最右位置(二分法)\n",
    "def searchRange(nums, target):\n",
    "\n",
    "    n = len(nums)\n",
    "    left, right = 0, n - 1\n",
    "    while left <= right:\n",
    "        mid = left + ((right - left)//2)\n",
    "        if nums[mid] <= target:\n",
    "            ans = mid\n",
    "            left = mid + 1\n",
    "        else:\n",
    "            right = mid - 1\n",
    "    \n",
    "    return ans\n",
    "\n",
    "## 有序数组中找>=num的最左位置(二分法)\n",
    "def searchRange(nums, target):\n",
    "\n",
    "    n = len(nums)\n",
    "    left, right = 0, n - 1\n",
    "    while left <= right:\n",
    "        mid = left + ((right - left)//2)\n",
    "        if nums[mid] < target:\n",
    "            left = mid + 1\n",
    "        else:\n",
    "            ans = mid\n",
    "            right = mid - 1\n",
    "    \n",
    "    return ans"
   ]
  }
 ],
 "metadata": {
  "language_info": {
   "name": "python"
  },
  "orig_nbformat": 4
 },
 "nbformat": 4,
 "nbformat_minor": 2
}
