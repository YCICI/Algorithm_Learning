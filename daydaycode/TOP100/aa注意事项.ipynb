{
 "cells": [
  {
   "cell_type": "markdown",
   "metadata": {},
   "source": [
    "## 需要记忆的的代码技巧\n",
    "\n",
    "* 二分查找的 边界条件\n",
    "* python中的队列/堆使用\n",
    "* 获取字符串索引的方法 ord('a')\n",
    "* 快速获取counts\n",
    "*"
   ]
  },
  {
   "cell_type": "code",
   "execution_count": null,
   "metadata": {},
   "outputs": [],
   "source": []
  },
  {
   "cell_type": "markdown",
   "metadata": {},
   "source": [
    "## 代码技巧\n",
    "\n",
    "* 创建默认字典（default dictionary）。  \n",
    "\n",
    "    这个字典的特点是，当你尝试访问字典中不存在的键时，它会自动为你创建这个键，并将其值初始化为你指定的默认类型（在这个例子中是 int 类型）的实例（即 0）。\n",
    "    ```\n",
    "    need  = collections.defaultdict(int)\n",
    "    ```"
   ]
  },
  {
   "cell_type": "code",
   "execution_count": 3,
   "metadata": {},
   "outputs": [
    {
     "data": {
      "text/plain": [
       "defaultdict(list, {0: [1]})"
      ]
     },
     "execution_count": 3,
     "metadata": {},
     "output_type": "execute_result"
    }
   ],
   "source": [
    "import collections\n",
    "need  = collections.defaultdict(list)\n",
    "need[0] += [1]\n",
    "need"
   ]
  },
  {
   "cell_type": "code",
   "execution_count": null,
   "metadata": {},
   "outputs": [],
   "source": [
    "# 字典删除键值对\n",
    "my_dict = {'a': 1, 'b': 2, 'c': 3}\n",
    "removed_value = my_dict.pop('b', None)  # 删除键 'b' 并返回其值，如果键不存在则返回 None\n",
    "\n",
    "my_dict = {'a': 1, 'b': 2, 'c': 3}\n",
    "del my_dict['b']  # 删除键 'b'，如果键不存在将抛出 KeyError"
   ]
  },
  {
   "cell_type": "code",
   "execution_count": null,
   "metadata": {},
   "outputs": [],
   "source": [
    "### 自定义链表的比较方式 用于合并k个有序链表的堆解法\n",
    "class ListNode:\n",
    "    def __init__(self, val = 0) -> None:\n",
    "        self.val = val\n",
    "        self.next = None\n",
    "\n",
    "ListNode.__lt__ = lambda a, b: a.val < b.val "
   ]
  },
  {
   "cell_type": "markdown",
   "metadata": {},
   "source": []
  }
 ],
 "metadata": {
  "kernelspec": {
   "display_name": "Python 3",
   "language": "python",
   "name": "python3"
  },
  "language_info": {
   "codemirror_mode": {
    "name": "ipython",
    "version": 3
   },
   "file_extension": ".py",
   "mimetype": "text/x-python",
   "name": "python",
   "nbconvert_exporter": "python",
   "pygments_lexer": "ipython3",
   "version": "3.9.6"
  },
  "orig_nbformat": 4
 },
 "nbformat": 4,
 "nbformat_minor": 2
}
