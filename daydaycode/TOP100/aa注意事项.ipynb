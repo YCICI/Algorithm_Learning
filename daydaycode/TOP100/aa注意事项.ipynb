{
 "cells": [
  {
   "cell_type": "markdown",
   "metadata": {},
   "source": [
    "## 需要记忆的的代码技巧\n",
    "\n",
    "* 二分查找的 边界条件\n",
    "* python中的队列/堆使用\n",
    "* 获取字符串索引的方法 ord('a')\n",
    "* 快速获取counts\n",
    "*"
   ]
  },
  {
   "cell_type": "markdown",
   "metadata": {},
   "source": []
  }
 ],
 "metadata": {
  "language_info": {
   "name": "python"
  },
  "orig_nbformat": 4
 },
 "nbformat": 4,
 "nbformat_minor": 2
}
