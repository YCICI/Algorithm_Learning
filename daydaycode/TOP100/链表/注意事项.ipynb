{
 "cells": [
  {
   "cell_type": "code",
   "execution_count": 23,
   "metadata": {},
   "outputs": [],
   "source": [
    "# 假设这是给定的链表节点类\n",
    "class ListNode:\n",
    "    def __init__(self, val=0, next=None):\n",
    "        self.val = val\n",
    "        self.next = next\n",
    "\n",
    "# 创建链表并添加节点\n",
    "def create_linked_list(values):\n",
    "    if not values:\n",
    "        return None\n",
    "    head = ListNode(values[0])\n",
    "    current = head\n",
    "    for value in values[1:]:\n",
    "        current.next = ListNode(value)\n",
    "        current = current.next\n",
    "    return head\n",
    "\n",
    "# 打印链表\n",
    "def print_linked_list(head):\n",
    "    current = head\n",
    "    while current:\n",
    "        print(current.val, end=\" -> \" if current.next else \"\\n\")\n",
    "        current = current.next\n"
   ]
  },
  {
   "cell_type": "markdown",
   "metadata": {},
   "source": [
    "1、快慢指针，边界条件注意事项\n",
    "\n",
    "slow = head fast = head 如果链表有偶数个节点，slow指向的是后半部分的开始节点   \n",
    "slow = head fast = head.next 如果链表有偶数个节点，slow指向的是前半部分的end节点"
   ]
  },
  {
   "cell_type": "code",
   "execution_count": 25,
   "metadata": {},
   "outputs": [],
   "source": [
    "def find_middle1(head):\n",
    "    \"\"\"使用快慢指针找到链表的中间节点\"\"\"\n",
    "    slow = head\n",
    "    fast = head \n",
    "\n",
    "    # 当快指针到达链表末尾时，慢指针将指向中间节点\n",
    "    while fast and fast.next:\n",
    "        slow = slow.next\n",
    "        fast = fast.next.next\n",
    "\n",
    "    # 如果链表有偶数个节点，slow指向的是后半部分的开始节点\n",
    "    # 如果链表有奇数个节点，返回中间节点\n",
    "    return slow\n",
    "\n",
    "def find_middle2(head):\n",
    "    \"\"\"使用快慢指针找到链表的中间节点\"\"\"\n",
    "    slow = head\n",
    "    fast = head.next\n",
    "\n",
    "    # 当快指针到达链表末尾时，慢指针将指向中间节点\n",
    "    while fast and fast.next:\n",
    "        slow = slow.next\n",
    "        fast = fast.next.next\n",
    "\n",
    "    # 如果链表有偶数个节点，slow指向的是前半部分的end节点\n",
    "    # 如果链表有奇数个节点，返回中间节点\n",
    "    return slow"
   ]
  },
  {
   "cell_type": "code",
   "execution_count": 27,
   "metadata": {},
   "outputs": [
    {
     "name": "stdout",
     "output_type": "stream",
     "text": [
      "1 -> 2 -> 4 -> 5\n",
      "4 -> 5\n",
      "2 -> 4 -> 5\n",
      "1 -> 2 -> 3 -> 4 -> 5\n",
      "3 -> 4 -> 5\n",
      "3 -> 4 -> 5\n"
     ]
    }
   ],
   "source": [
    "# 使用示例\n",
    "# 创建一个链表：1 -> 2  -> 4 -> 5\n",
    "l1 = create_linked_list([1, 2, 4, 5])\n",
    "\n",
    "# 打印链表\n",
    "print_linked_list(l1)\n",
    "\n",
    "l1_mid1 = find_middle1(l1)\n",
    "l1_mid2 = find_middle2(l1)\n",
    "# slow = head fast = head 如果链表有偶数个节点，slow指向的是后半部分的开始节点\n",
    "print_linked_list(l1_mid1)\n",
    "# slow = head fast = head.next 如果链表有偶数个节点，slow指向的是前半部分的end节点\n",
    "print_linked_list(l1_mid2)\n",
    "\n",
    "\n",
    "## 奇数不受影响 都是指向同一个位置 \n",
    "l2 = create_linked_list([1, 2, 3, 4, 5])\n",
    "\n",
    "# 打印链表\n",
    "print_linked_list(l2)\n",
    "\n",
    "l2_mid1 = find_middle1(l2)\n",
    "l2_mid2 = find_middle2(l2)\n",
    "# slow = head fast = head  slow指向的是后半部分的开始节点\n",
    "print_linked_list(l2_mid1)\n",
    "# slow = head fast = head.next slow指向的是前半部分的end节点,但对于奇数来说是一个意思\n",
    "print_linked_list(l2_mid2)"
   ]
  }
 ],
 "metadata": {
  "kernelspec": {
   "display_name": "Python 3",
   "language": "python",
   "name": "python3"
  },
  "language_info": {
   "codemirror_mode": {
    "name": "ipython",
    "version": 3
   },
   "file_extension": ".py",
   "mimetype": "text/x-python",
   "name": "python",
   "nbconvert_exporter": "python",
   "pygments_lexer": "ipython3",
   "version": "3.9.6"
  }
 },
 "nbformat": 4,
 "nbformat_minor": 2
}
