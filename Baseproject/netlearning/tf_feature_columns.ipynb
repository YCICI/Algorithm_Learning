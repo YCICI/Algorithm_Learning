{
 "cells": [
  {
   "cell_type": "markdown",
   "metadata": {},
   "source": [
    "## feature_column 接口\n",
    " tensorflow 中提供了 feature_column 接口，它可以 支持 将 每个 特征hash 后 快速得到 一定数值的 索引id , 该特征 空间大小 可以 自行定制。\n",
    "\n",
    " feature column 处理特征 可以分为 Categorical Column 和 Dense Column 两大类,  特征总共 分成 dense 和 sparse 两类特征 是 一个意思. 除了 Categorical Column 和 Dense Column 两大类特征，还有对序列特征的处理；\n",
    "\n",
    "1、 Categorical Column \n",
    "    * categorical_column_with_identity\n",
    "    * categorical_column_with_vocabulary_file\n",
    "    * categorical_column_with_vocabulary_list\n",
    "    * categorical_column_ with_hash_ bucket\n",
    "    * crossed column\n",
    "\n",
    "2、 Dense Column\n",
    "    * numeric_column\n",
    "    * indicator_column\n",
    "    * embedding_column\n",
    "  \n",
    "3、 其他\n",
    "    * bucketized_column"
   ]
  },
  {
   "cell_type": "code",
   "execution_count": 1,
   "metadata": {},
   "outputs": [
    {
     "name": "stderr",
     "output_type": "stream",
     "text": [
      "2024-04-16 11:34:30.229490: I tensorflow/core/platform/cpu_feature_guard.cc:182] This TensorFlow binary is optimized to use available CPU instructions in performance-critical operations.\n",
      "To enable the following instructions: SSE4.1 SSE4.2 AVX AVX2 FMA, in other operations, rebuild TensorFlow with the appropriate compiler flags.\n"
     ]
    }
   ],
   "source": [
    "import tensorflow as tf"
   ]
  },
  {
   "cell_type": "markdown",
   "metadata": {},
   "source": [
    "**numeric_column**\n",
    "\n",
    "处理统计类的浮点数 特征或则 其他 不需要 分桶、且 也不需要 embeding 的 特征"
   ]
  },
  {
   "cell_type": "code",
   "execution_count": 2,
   "metadata": {},
   "outputs": [
    {
     "name": "stdout",
     "output_type": "stream",
     "text": [
      "WARNING:tensorflow:From /var/folders/ns/p95sqmnj26j46blqytxj3kw00000gp/T/ipykernel_88975/4231286839.py:1: numeric_column (from tensorflow.python.feature_column.feature_column_v2) is deprecated and will be removed in a future version.\n",
      "Instructions for updating:\n",
      "Use Keras preprocessing layers instead, either directly or via the `tf.keras.utils.FeatureSpace` utility. Each of `tf.feature_column.*` has a functional equivalent in `tf.keras.layers` for feature preprocessing when training a Keras model.\n",
      "tf.Tensor(\n",
      "[[2.]\n",
      " [3.]\n",
      " [4.]], shape=(3, 1), dtype=float32)\n"
     ]
    }
   ],
   "source": [
    "number = tf.feature_column.numeric_column(\"price\")\n",
    "price_feature_dict = {\"price\": [[2.0],[3.0],[4.0]]}\n",
    "\n",
    "# 用这种数据解析方法来解析dict数据\n",
    "# 这里感觉更像是定义了一种数据解析方法 \n",
    "output = tf.keras.layers.DenseFeatures(number)(price_feature_dict)\n",
    "print(output)\n"
   ]
  }
 ],
 "metadata": {
  "kernelspec": {
   "display_name": "tf",
   "language": "python",
   "name": "python3"
  },
  "language_info": {
   "codemirror_mode": {
    "name": "ipython",
    "version": 3
   },
   "file_extension": ".py",
   "mimetype": "text/x-python",
   "name": "python",
   "nbconvert_exporter": "python",
   "pygments_lexer": "ipython3",
   "version": "3.11.5"
  },
  "orig_nbformat": 4
 },
 "nbformat": 4,
 "nbformat_minor": 2
}
