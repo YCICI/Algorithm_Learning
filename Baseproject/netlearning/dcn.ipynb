{
 "cells": [
  {
   "cell_type": "code",
   "execution_count": null,
   "metadata": {},
   "outputs": [],
   "source": [
    "import tensorflow as tf\n",
    "\n",
    "\n",
    "TRAIN_DATA_URL = \"file:///Users/zhewang/Workspace/SparrowRecSys/src/main/resources/webroot/sampledata/modelSamples.csv\"\n",
    "samples_file_path = tf.keras.utils.get_file(\"modelSamples.csv\", TRAIN_DATA_URL)"
   ]
  }
 ],
 "metadata": {
  "language_info": {
   "name": "python"
  },
  "orig_nbformat": 4
 },
 "nbformat": 4,
 "nbformat_minor": 2
}
